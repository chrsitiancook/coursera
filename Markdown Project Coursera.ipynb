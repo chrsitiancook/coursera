{
 "cells": [
  {
   "cell_type": "markdown",
   "id": "a0aa6a17",
   "metadata": {},
   "source": [
    "# Title"
   ]
  },
  {
   "cell_type": "markdown",
   "id": "81e7b075",
   "metadata": {},
   "source": [
    "This cell holds an introductory sentence."
   ]
  },
  {
   "cell_type": "markdown",
   "id": "d6bf8322",
   "metadata": {},
   "source": [
    "This cell contains both an introductory sentence and a list of DS languages.\n",
    "1. Python\n",
    "2. R\n",
    "3. SQL\n",
    "4. Julia"
   ]
  },
  {
   "cell_type": "markdown",
   "id": "260c17a1",
   "metadata": {},
   "source": [
    "This cell contains both an introductory sentence and a list of DS libraries.\n",
    "1. Pandas\n",
    "2. Matplotlib\n",
    "3. Numpy\n",
    "4. TensorFlow"
   ]
  },
  {
   "cell_type": "markdown",
   "id": "76acd80c",
   "metadata": {},
   "source": [
    "| Tools | Uses |\n",
    "| ----------- | ----------- |\n",
    "| Git | Version Control |\n",
    "| Postgresql | Database |\n"
   ]
  },
  {
   "cell_type": "markdown",
   "id": "8fd6df54",
   "metadata": {},
   "source": [
    "The below code will multiply two numbers and then add another number to that product."
   ]
  },
  {
   "cell_type": "code",
   "execution_count": 1,
   "id": "6e98946f",
   "metadata": {},
   "outputs": [
    {
     "data": {
      "text/plain": [
       "65"
      ]
     },
     "execution_count": 1,
     "metadata": {},
     "output_type": "execute_result"
    }
   ],
   "source": [
    "8*7+9"
   ]
  },
  {
   "cell_type": "code",
   "execution_count": 2,
   "id": "6f6f99d8",
   "metadata": {},
   "outputs": [
    {
     "data": {
      "text/plain": [
       "0.5"
      ]
     },
     "execution_count": 2,
     "metadata": {},
     "output_type": "execute_result"
    }
   ],
   "source": [
    "30 / 60"
   ]
  },
  {
   "cell_type": "markdown",
   "id": "baca7724",
   "metadata": {},
   "source": [
    "This cell contains an introductory sentence and an unordered list.\n",
    "- This list isn't ordered.\n",
    "- This is the second line, however the list is unordered.\n",
    "- Third item"
   ]
  },
  {
   "cell_type": "markdown",
   "id": "b19d20c8",
   "metadata": {},
   "source": [
    "Author: Peter Christian Cook II"
   ]
  },
  {
   "cell_type": "code",
   "execution_count": null,
   "id": "64a5f4b1",
   "metadata": {},
   "outputs": [],
   "source": []
  }
 ],
 "metadata": {
  "kernelspec": {
   "display_name": "Python 3 (ipykernel)",
   "language": "python",
   "name": "python3"
  },
  "language_info": {
   "codemirror_mode": {
    "name": "ipython",
    "version": 3
   },
   "file_extension": ".py",
   "mimetype": "text/x-python",
   "name": "python",
   "nbconvert_exporter": "python",
   "pygments_lexer": "ipython3",
   "version": "3.9.13"
  }
 },
 "nbformat": 4,
 "nbformat_minor": 5
}
