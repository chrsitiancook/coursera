{
 "cells": [
  {
   "cell_type": "markdown",
   "id": "a0aa6a17",
   "metadata": {},
   "source": [
    "# Peer Graded Coursera Assignment"
   ]
  },
  {
   "cell_type": "markdown",
   "id": "81e7b075",
   "metadata": {},
   "source": [
    "This notebook contains a my output for the peer graded assignment at the end of Tools for Data Science."
   ]
  },
  {
   "cell_type": "markdown",
   "id": "d6bf8322",
   "metadata": {},
   "source": [
    "Some of the popular languages that Data Scientists use are:\n",
    "1. Python\n",
    "2. R\n",
    "3. SQL\n",
    "4. Julia"
   ]
  },
  {
   "cell_type": "markdown",
   "id": "260c17a1",
   "metadata": {},
   "source": [
    "Some of the commonly used libraries used by Data Scientists include:\n",
    "1. Pandas\n",
    "2. Matplotlib\n",
    "3. Numpy\n",
    "4. TensorFlow"
   ]
  },
  {
   "cell_type": "markdown",
   "id": "76acd80c",
   "metadata": {},
   "source": [
    "| Data Science Tools | \n",
    "| ----------- |\n",
    "| Git |\n",
    "| RStudio |\n",
    "| Jupyter Notebooks |\n",
    "| Anaconda |"
   ]
  },
  {
   "cell_type": "markdown",
   "id": "8fd6df54",
   "metadata": {},
   "source": [
    "</h3>The below code will multiply two numbers and then add another number to that product.</h3>"
   ]
  },
  {
   "cell_type": "code",
   "execution_count": 1,
   "id": "6e98946f",
   "metadata": {},
   "outputs": [
    {
     "data": {
      "text/plain": [
       "17"
      ]
     },
     "execution_count": 1,
     "metadata": {},
     "output_type": "execute_result"
    }
   ],
   "source": [
    "# The output should be 17\n",
    "5*3+2"
   ]
  },
  {
   "cell_type": "code",
   "execution_count": 5,
   "id": "6f6f99d8",
   "metadata": {},
   "outputs": [
    {
     "data": {
      "text/plain": [
       "3.33"
      ]
     },
     "execution_count": 5,
     "metadata": {},
     "output_type": "execute_result"
    }
   ],
   "source": [
    "# This finds how many hours are in 198 minutes\n",
    "199.8 / 60"
   ]
  },
  {
   "cell_type": "markdown",
   "id": "baca7724",
   "metadata": {},
   "source": [
    "**Objectives**\n",
    "- Include a few objectives in this list.\n",
    "- Upload screenshots of the notebook.\n",
    "- Take screenshots of the notebook."
   ]
  },
  {
   "cell_type": "markdown",
   "id": "b19d20c8",
   "metadata": {},
   "source": [
    "## Author(s):\n",
    "Peter Christian Cook II"
   ]
  },
  {
   "cell_type": "code",
   "execution_count": null,
   "id": "64a5f4b1",
   "metadata": {},
   "outputs": [],
   "source": []
  }
 ],
 "metadata": {
  "kernelspec": {
   "display_name": "Python 3 (ipykernel)",
   "language": "python",
   "name": "python3"
  },
  "language_info": {
   "codemirror_mode": {
    "name": "ipython",
    "version": 3
   },
   "file_extension": ".py",
   "mimetype": "text/x-python",
   "name": "python",
   "nbconvert_exporter": "python",
   "pygments_lexer": "ipython3",
   "version": "3.9.13"
  }
 },
 "nbformat": 4,
 "nbformat_minor": 5
}
